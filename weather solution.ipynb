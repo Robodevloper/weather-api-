{
  "nbformat": 4,
  "nbformat_minor": 0,
  "metadata": {
    "colab": {
      "name": "Untitled82.ipynb",
      "provenance": []
    },
    "kernelspec": {
      "name": "python3",
      "display_name": "Python 3"
    },
    "language_info": {
      "name": "python"
    }
  },
  "cells": [
    {
      "cell_type": "code",
      "metadata": {
        "colab": {
          "base_uri": "https://localhost:8080/"
        },
        "id": "SnGewLs-uAqu",
        "outputId": "f1a21936-90b8-4769-aac7-12b69001a2ba"
      },
      "source": [
        "\n",
        "\n",
        "\n",
        "import requests, json\n",
        "\n",
        "\n",
        "api_key = \"bda584c1162c74a779e601e263892af6\"\n",
        "\n",
        "\n",
        "base_url = \"http://api.openweathermap.org/data/2.5/weather?\"\n",
        "\n",
        "\n",
        "city_name = input(\"Enter city name : \")\n",
        "\n",
        "\n",
        "complete_url = base_url + \"appid=\" + api_key + \"&q=\" + city_name\n",
        "\n",
        "\n",
        "response = requests.get(complete_url)\n",
        "\n",
        "\n",
        "x = response.json()\n",
        "\n",
        "\n",
        "if x[\"cod\"] != \"404\":\n",
        "\n",
        "\t\n",
        "\ty = x[\"main\"]\n",
        "\n",
        "\n",
        "\tcurrent_temperature = y[\"temp\"]\n",
        "\n",
        "\t\n",
        "\tcurrent_pressure = y[\"pressure\"]\n",
        "\n",
        "\t\n",
        "\tcurrent_humidity = y[\"humidity\"]\n",
        "\n",
        "\n",
        "\tz = x[\"weather\"]\n",
        "\n",
        "\t\n",
        "\tweather_description = z[0][\"description\"]\n",
        "\n",
        "\n",
        "\tprint(\" Temperature (in kelvin unit) = \" +\n",
        "\t\t\t\t\tstr(current_temperature) +\n",
        "\t\t\"\\n atmospheric pressure (in hPa unit) = \" +\n",
        "\t\t\t\t\tstr(current_pressure) +\n",
        "\t\t\"\\n humidity (in percentage) = \" +\n",
        "\t\t\t\t\tstr(current_humidity) +\n",
        "\t\t\"\\n description = \" +\n",
        "\t\t\t\t\tstr(weather_description))\n",
        "\n",
        "else:\n",
        "\tprint(\" City Not Found \")\n"
      ],
      "execution_count": 11,
      "outputs": [
        {
          "output_type": "stream",
          "text": [
            "Enter city name : Jaipur\n",
            " Temperature (in kelvin unit) = 302.77\n",
            " atmospheric pressure (in hPa unit) = 998\n",
            " humidity (in percentage) = 79\n",
            " description = haze\n"
          ],
          "name": "stdout"
        }
      ]
    }
  ]
}